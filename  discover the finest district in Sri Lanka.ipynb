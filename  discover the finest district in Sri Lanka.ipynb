{
  "nbformat": 4,
  "nbformat_minor": 0,
  "metadata": {
    "colab": {
      "name": "Untitled14.ipynb",
      "provenance": [],
      "authorship_tag": "ABX9TyO5uAa72vAgCl/NpC+RXpBU",
      "include_colab_link": true
    },
    "kernelspec": {
      "name": "python3",
      "display_name": "Python 3"
    },
    "language_info": {
      "name": "python"
    }
  },
  "cells": [
    {
      "cell_type": "markdown",
      "metadata": {
        "id": "view-in-github",
        "colab_type": "text"
      },
      "source": [
        "<a href=\"https://colab.research.google.com/github/A1r33s-thewarman/Segmenting-and-Clustering/blob/main/%20discover%20the%20finest%20district%20in%20Sri%20Lanka.ipynb\" target=\"_parent\"><img src=\"https://colab.research.google.com/assets/colab-badge.svg\" alt=\"Open In Colab\"/></a>"
      ]
    },
    {
      "cell_type": "markdown",
      "metadata": {
        "id": "K2A0W47iTKrt"
      },
      "source": [
        "\n",
        "######Peer-graded Assignment: Capstone Project - The Battle of Neighborhood(Week 1)"
      ]
    },
    {
      "cell_type": "markdown",
      "metadata": {
        "id": "8nsBZkZHTaa9"
      },
      "source": [
        "#### Introduction/Business Problem"
      ]
    },
    {
      "cell_type": "markdown",
      "metadata": {
        "id": "GNgLpN4xWrOM"
      },
      "source": [
        "The main goal of this is to discover the finest district in Sri Lanka to reside in. This will assist anyone looking to relocate to choose the finest district in which to reside."
      ]
    },
    {
      "cell_type": "markdown",
      "metadata": {
        "id": "JZAPFhlFXRYy"
      },
      "source": [
        "#### Data"
      ]
    },
    {
      "cell_type": "code",
      "metadata": {
        "id": "9P6URZigTTnb"
      },
      "source": [
        "import pandas as pd\n",
        "pd.set_option('display.max_columns', None)\n",
        "pd.set_option('display.max_rows', None)\n",
        "\n",
        "import numpy as np\n",
        "from geopy.geocoders import Nominatim \n",
        "import folium "
      ],
      "execution_count": 1,
      "outputs": []
    },
    {
      "cell_type": "code",
      "metadata": {
        "id": "4UlG7JzSX0Sw"
      },
      "source": [
        "csv1 = \"http://www.data.gov.lk/sites/default/files/source_of_drinking_water_in_rural_sector_1_1.csv\"\n",
        "df = pd.read_csv(csv1)"
      ],
      "execution_count": 2,
      "outputs": []
    },
    {
      "cell_type": "code",
      "metadata": {
        "colab": {
          "base_uri": "https://localhost:8080/",
          "height": 204
        },
        "id": "pM8pJjMeYKT7",
        "outputId": "9f964104-f5be-43f8-b0a4-6fb3f5070745"
      },
      "source": [
        "df.head()"
      ],
      "execution_count": 3,
      "outputs": [
        {
          "output_type": "execute_result",
          "data": {
            "text/html": [
              "<div>\n",
              "<style scoped>\n",
              "    .dataframe tbody tr th:only-of-type {\n",
              "        vertical-align: middle;\n",
              "    }\n",
              "\n",
              "    .dataframe tbody tr th {\n",
              "        vertical-align: top;\n",
              "    }\n",
              "\n",
              "    .dataframe thead th {\n",
              "        text-align: right;\n",
              "    }\n",
              "</style>\n",
              "<table border=\"1\" class=\"dataframe\">\n",
              "  <thead>\n",
              "    <tr style=\"text-align: right;\">\n",
              "      <th></th>\n",
              "      <th>District</th>\n",
              "      <th>Safe Drinking water (%)</th>\n",
              "      <th>Unsafe Drinking water (%)</th>\n",
              "    </tr>\n",
              "  </thead>\n",
              "  <tbody>\n",
              "    <tr>\n",
              "      <th>0</th>\n",
              "      <td>Sri Lanka</td>\n",
              "      <td>77.1</td>\n",
              "      <td>22.9</td>\n",
              "    </tr>\n",
              "    <tr>\n",
              "      <th>1</th>\n",
              "      <td>Colombo</td>\n",
              "      <td>88.1</td>\n",
              "      <td>11.9</td>\n",
              "    </tr>\n",
              "    <tr>\n",
              "      <th>2</th>\n",
              "      <td>Gampaha</td>\n",
              "      <td>93.0</td>\n",
              "      <td>7.0</td>\n",
              "    </tr>\n",
              "    <tr>\n",
              "      <th>3</th>\n",
              "      <td>Kalutara</td>\n",
              "      <td>85.3</td>\n",
              "      <td>14.7</td>\n",
              "    </tr>\n",
              "    <tr>\n",
              "      <th>4</th>\n",
              "      <td>Kandy</td>\n",
              "      <td>74.8</td>\n",
              "      <td>25.2</td>\n",
              "    </tr>\n",
              "  </tbody>\n",
              "</table>\n",
              "</div>"
            ],
            "text/plain": [
              "    District  Safe Drinking water (%)  Unsafe Drinking water (%)\n",
              "0  Sri Lanka                     77.1                       22.9\n",
              "1    Colombo                     88.1                       11.9\n",
              "2    Gampaha                     93.0                        7.0\n",
              "3   Kalutara                     85.3                       14.7\n",
              "4      Kandy                     74.8                       25.2"
            ]
          },
          "metadata": {
            "tags": []
          },
          "execution_count": 3
        }
      ]
    },
    {
      "cell_type": "code",
      "metadata": {
        "id": "ILUsLFljYjjV"
      },
      "source": [
        "#rename columns\n",
        "df = df.rename(columns={'District': 'district', 'Safe Drinking water (%)' : 'safe', 'Unsafe Drinking water (%)' : 'unsafe'})"
      ],
      "execution_count": 9,
      "outputs": []
    },
    {
      "cell_type": "code",
      "metadata": {
        "colab": {
          "base_uri": "https://localhost:8080/",
          "height": 204
        },
        "id": "87eqiPW_ZfGz",
        "outputId": "7447bc4f-de15-4f1d-dde8-37c9dac48f17"
      },
      "source": [
        "df.head()"
      ],
      "execution_count": 10,
      "outputs": [
        {
          "output_type": "execute_result",
          "data": {
            "text/html": [
              "<div>\n",
              "<style scoped>\n",
              "    .dataframe tbody tr th:only-of-type {\n",
              "        vertical-align: middle;\n",
              "    }\n",
              "\n",
              "    .dataframe tbody tr th {\n",
              "        vertical-align: top;\n",
              "    }\n",
              "\n",
              "    .dataframe thead th {\n",
              "        text-align: right;\n",
              "    }\n",
              "</style>\n",
              "<table border=\"1\" class=\"dataframe\">\n",
              "  <thead>\n",
              "    <tr style=\"text-align: right;\">\n",
              "      <th></th>\n",
              "      <th>district</th>\n",
              "      <th>safe</th>\n",
              "      <th>unsafe</th>\n",
              "    </tr>\n",
              "  </thead>\n",
              "  <tbody>\n",
              "    <tr>\n",
              "      <th>0</th>\n",
              "      <td>Sri Lanka</td>\n",
              "      <td>77.1</td>\n",
              "      <td>22.9</td>\n",
              "    </tr>\n",
              "    <tr>\n",
              "      <th>1</th>\n",
              "      <td>Colombo</td>\n",
              "      <td>88.1</td>\n",
              "      <td>11.9</td>\n",
              "    </tr>\n",
              "    <tr>\n",
              "      <th>2</th>\n",
              "      <td>Gampaha</td>\n",
              "      <td>93.0</td>\n",
              "      <td>7.0</td>\n",
              "    </tr>\n",
              "    <tr>\n",
              "      <th>3</th>\n",
              "      <td>Kalutara</td>\n",
              "      <td>85.3</td>\n",
              "      <td>14.7</td>\n",
              "    </tr>\n",
              "    <tr>\n",
              "      <th>4</th>\n",
              "      <td>Kandy</td>\n",
              "      <td>74.8</td>\n",
              "      <td>25.2</td>\n",
              "    </tr>\n",
              "  </tbody>\n",
              "</table>\n",
              "</div>"
            ],
            "text/plain": [
              "    district  safe  unsafe\n",
              "0  Sri Lanka  77.1    22.9\n",
              "1    Colombo  88.1    11.9\n",
              "2    Gampaha  93.0     7.0\n",
              "3   Kalutara  85.3    14.7\n",
              "4      Kandy  74.8    25.2"
            ]
          },
          "metadata": {
            "tags": []
          },
          "execution_count": 10
        }
      ]
    },
    {
      "cell_type": "code",
      "metadata": {
        "colab": {
          "base_uri": "https://localhost:8080/",
          "height": 356
        },
        "id": "GKGlQi43aboi",
        "outputId": "25044c5e-4ab3-4806-ac79-715cbd23a049"
      },
      "source": [
        "df.plot.bar(x=\"district\", y=\"safe\", rot=70, title=\"safest water resources\");"
      ],
      "execution_count": 15,
      "outputs": [
        {
          "output_type": "display_data",
          "data": {
            "image/png": "[encoded data removed]",
            "text/plain": [
              "<Figure size 432x288 with 1 Axes>"
            ]
          },
          "metadata": {
            "tags": [],
            "needs_background": "light"
          }
        }
      ]
    },
    {
      "cell_type": "code",
      "metadata": {
        "colab": {
          "base_uri": "https://localhost:8080/",
          "height": 204
        },
        "id": "G-HLJ7kxbcG7",
        "outputId": "13302153-6ce0-441a-897b-98d423b6d58b"
      },
      "source": [
        "df.sort_values('safe').head()"
      ],
      "execution_count": 22,
      "outputs": [
        {
          "output_type": "execute_result",
          "data": {
            "text/html": [
              "<div>\n",
              "<style scoped>\n",
              "    .dataframe tbody tr th:only-of-type {\n",
              "        vertical-align: middle;\n",
              "    }\n",
              "\n",
              "    .dataframe tbody tr th {\n",
              "        vertical-align: top;\n",
              "    }\n",
              "\n",
              "    .dataframe thead th {\n",
              "        text-align: right;\n",
              "    }\n",
              "</style>\n",
              "<table border=\"1\" class=\"dataframe\">\n",
              "  <thead>\n",
              "    <tr style=\"text-align: right;\">\n",
              "      <th></th>\n",
              "      <th>district</th>\n",
              "      <th>safe</th>\n",
              "      <th>unsafe</th>\n",
              "    </tr>\n",
              "  </thead>\n",
              "  <tbody>\n",
              "    <tr>\n",
              "      <th>6</th>\n",
              "      <td>Nuwara Eliya</td>\n",
              "      <td>38.7</td>\n",
              "      <td>61.3</td>\n",
              "    </tr>\n",
              "    <tr>\n",
              "      <th>22</th>\n",
              "      <td>Badulla</td>\n",
              "      <td>46.9</td>\n",
              "      <td>53.1</td>\n",
              "    </tr>\n",
              "    <tr>\n",
              "      <th>24</th>\n",
              "      <td>Ratnapura</td>\n",
              "      <td>52.5</td>\n",
              "      <td>47.5</td>\n",
              "    </tr>\n",
              "    <tr>\n",
              "      <th>25</th>\n",
              "      <td>Kegalle</td>\n",
              "      <td>69.1</td>\n",
              "      <td>30.9</td>\n",
              "    </tr>\n",
              "    <tr>\n",
              "      <th>23</th>\n",
              "      <td>Moneragala</td>\n",
              "      <td>69.9</td>\n",
              "      <td>30.1</td>\n",
              "    </tr>\n",
              "  </tbody>\n",
              "</table>\n",
              "</div>"
            ],
            "text/plain": [
              "        district  safe  unsafe\n",
              "6   Nuwara Eliya  38.7    61.3\n",
              "22       Badulla  46.9    53.1\n",
              "24     Ratnapura  52.5    47.5\n",
              "25       Kegalle  69.1    30.9\n",
              "23    Moneragala  69.9    30.1"
            ]
          },
          "metadata": {
            "tags": []
          },
          "execution_count": 22
        }
      ]
    }
  ]
}